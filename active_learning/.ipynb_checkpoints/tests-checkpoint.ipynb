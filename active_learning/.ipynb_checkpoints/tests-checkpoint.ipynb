{
 "cells": [
  {
   "cell_type": "code",
   "execution_count": 1,
   "metadata": {},
   "outputs": [],
   "source": [
    "from sklearn.tree import DecisionTreeRegressor\n",
    "from sklearn.datasets import california_housing\n",
    "import numpy as np"
   ]
  },
  {
   "cell_type": "code",
   "execution_count": 2,
   "metadata": {},
   "outputs": [],
   "source": [
    "dataset = california_housing.fetch_california_housing()"
   ]
  },
  {
   "cell_type": "code",
   "execution_count": 3,
   "metadata": {},
   "outputs": [],
   "source": [
    "X = dataset.data\n",
    "y = dataset.target"
   ]
  },
  {
   "cell_type": "code",
   "execution_count": 4,
   "metadata": {},
   "outputs": [
    {
     "data": {
      "text/plain": [
       "array([   8.3252    ,   41.        ,    6.98412698,    1.02380952,\n",
       "        322.        ,    2.55555556,   37.88      , -122.23      ])"
      ]
     },
     "execution_count": 4,
     "metadata": {},
     "output_type": "execute_result"
    }
   ],
   "source": [
    "X[0,:]"
   ]
  },
  {
   "cell_type": "code",
   "execution_count": 5,
   "metadata": {},
   "outputs": [
    {
     "data": {
      "text/plain": [
       "(20640, 8)"
      ]
     },
     "execution_count": 5,
     "metadata": {},
     "output_type": "execute_result"
    }
   ],
   "source": [
    "X.shape"
   ]
  },
  {
   "cell_type": "code",
   "execution_count": 6,
   "metadata": {},
   "outputs": [],
   "source": [
    "from sklearn.metrics import mean_squared_error"
   ]
  },
  {
   "cell_type": "code",
   "execution_count": 7,
   "metadata": {},
   "outputs": [
    {
     "name": "stdout",
     "output_type": "stream",
     "text": [
      "5.529312015085222e-14\n"
     ]
    }
   ],
   "source": [
    "regr = DecisionTreeRegressor().fit(X,y)\n",
    "print(mean_squared_error(regr.predict(X),y))"
   ]
  },
  {
   "cell_type": "code",
   "execution_count": 12,
   "metadata": {},
   "outputs": [],
   "source": [
    "u = regr.tree_.decision_path(X.astype(np.float32))"
   ]
  },
  {
   "cell_type": "code",
   "execution_count": 10,
   "metadata": {},
   "outputs": [
    {
     "data": {
      "text/plain": [
       "array([ 5.03514957,  3.07429981,  4.31418896, ..., -2.        ,\n",
       "       -2.        , -2.        ])"
      ]
     },
     "execution_count": 10,
     "metadata": {},
     "output_type": "execute_result"
    }
   ],
   "source": [
    "regr.tree_.threshold"
   ]
  },
  {
   "cell_type": "code",
   "execution_count": 17,
   "metadata": {},
   "outputs": [
    {
     "data": {
      "text/plain": [
       "19715"
      ]
     },
     "execution_count": 17,
     "metadata": {},
     "output_type": "execute_result"
    }
   ],
   "source": [
    "(regr.tree_.feature == -2).sum()"
   ]
  },
  {
   "cell_type": "code",
   "execution_count": 19,
   "metadata": {},
   "outputs": [
    {
     "data": {
      "text/plain": [
       "(20640, 39429)"
      ]
     },
     "execution_count": 19,
     "metadata": {},
     "output_type": "execute_result"
    }
   ],
   "source": [
    "u.shape"
   ]
  },
  {
   "cell_type": "code",
   "execution_count": 15,
   "metadata": {},
   "outputs": [],
   "source": [
    "import pandas as pd"
   ]
  },
  {
   "cell_type": "code",
   "execution_count": 21,
   "metadata": {},
   "outputs": [
    {
     "data": {
      "text/html": [
       "<div>\n",
       "<style scoped>\n",
       "    .dataframe tbody tr th:only-of-type {\n",
       "        vertical-align: middle;\n",
       "    }\n",
       "\n",
       "    .dataframe tbody tr th {\n",
       "        vertical-align: top;\n",
       "    }\n",
       "\n",
       "    .dataframe thead th {\n",
       "        text-align: right;\n",
       "    }\n",
       "</style>\n",
       "<table border=\"1\" class=\"dataframe\">\n",
       "  <thead>\n",
       "    <tr style=\"text-align: right;\">\n",
       "      <th></th>\n",
       "      <th>0</th>\n",
       "      <th>1</th>\n",
       "      <th>2</th>\n",
       "      <th>3</th>\n",
       "      <th>4</th>\n",
       "      <th>5</th>\n",
       "      <th>6</th>\n",
       "      <th>7</th>\n",
       "      <th>8</th>\n",
       "      <th>9</th>\n",
       "    </tr>\n",
       "  </thead>\n",
       "  <tbody>\n",
       "    <tr>\n",
       "      <th>0</th>\n",
       "      <td>8.401877</td>\n",
       "      <td>3.943829</td>\n",
       "      <td>7.830992</td>\n",
       "      <td>7.984400</td>\n",
       "      <td>9.116474</td>\n",
       "      <td>1.975514</td>\n",
       "      <td>3.352228</td>\n",
       "      <td>7.682296</td>\n",
       "      <td>2.777747</td>\n",
       "      <td>5.539700</td>\n",
       "    </tr>\n",
       "    <tr>\n",
       "      <th>1</th>\n",
       "      <td>4.773971</td>\n",
       "      <td>6.288709</td>\n",
       "      <td>3.647845</td>\n",
       "      <td>5.134009</td>\n",
       "      <td>9.522297</td>\n",
       "      <td>9.161951</td>\n",
       "      <td>6.357117</td>\n",
       "      <td>7.172969</td>\n",
       "      <td>1.416026</td>\n",
       "      <td>6.069689</td>\n",
       "    </tr>\n",
       "    <tr>\n",
       "      <th>2</th>\n",
       "      <td>0.163006</td>\n",
       "      <td>2.428868</td>\n",
       "      <td>1.372316</td>\n",
       "      <td>8.041768</td>\n",
       "      <td>1.566791</td>\n",
       "      <td>4.009444</td>\n",
       "      <td>1.297904</td>\n",
       "      <td>1.088088</td>\n",
       "      <td>9.989245</td>\n",
       "      <td>2.182569</td>\n",
       "    </tr>\n",
       "    <tr>\n",
       "      <th>3</th>\n",
       "      <td>5.129324</td>\n",
       "      <td>8.391122</td>\n",
       "      <td>6.126398</td>\n",
       "      <td>2.960316</td>\n",
       "      <td>6.375523</td>\n",
       "      <td>5.242872</td>\n",
       "      <td>4.935830</td>\n",
       "      <td>9.727750</td>\n",
       "      <td>2.925168</td>\n",
       "      <td>7.713577</td>\n",
       "    </tr>\n",
       "    <tr>\n",
       "      <th>4</th>\n",
       "      <td>5.267450</td>\n",
       "      <td>7.699138</td>\n",
       "      <td>4.002286</td>\n",
       "      <td>8.915295</td>\n",
       "      <td>2.833147</td>\n",
       "      <td>3.524583</td>\n",
       "      <td>8.077245</td>\n",
       "      <td>9.190265</td>\n",
       "      <td>0.697553</td>\n",
       "      <td>9.493271</td>\n",
       "    </tr>\n",
       "  </tbody>\n",
       "</table>\n",
       "</div>"
      ],
      "text/plain": [
       "          0         1         2         3         4         5         6  \\\n",
       "0  8.401877  3.943829  7.830992  7.984400  9.116474  1.975514  3.352228   \n",
       "1  4.773971  6.288709  3.647845  5.134009  9.522297  9.161951  6.357117   \n",
       "2  0.163006  2.428868  1.372316  8.041768  1.566791  4.009444  1.297904   \n",
       "3  5.129324  8.391122  6.126398  2.960316  6.375523  5.242872  4.935830   \n",
       "4  5.267450  7.699138  4.002286  8.915295  2.833147  3.524583  8.077245   \n",
       "\n",
       "          7         8         9  \n",
       "0  7.682296  2.777747  5.539700  \n",
       "1  7.172969  1.416026  6.069689  \n",
       "2  1.088088  9.989245  2.182569  \n",
       "3  9.727750  2.925168  7.713577  \n",
       "4  9.190265  0.697553  9.493271  "
      ]
     },
     "execution_count": 21,
     "metadata": {},
     "output_type": "execute_result"
    }
   ],
   "source": [
    "points = pd.read_csv('./data/public.data', sep = ' ', names = list(range(10)))\n",
    "points.head()"
   ]
  },
  {
   "cell_type": "code",
   "execution_count": 22,
   "metadata": {},
   "outputs": [
    {
     "data": {
      "text/html": [
       "<div>\n",
       "<style scoped>\n",
       "    .dataframe tbody tr th:only-of-type {\n",
       "        vertical-align: middle;\n",
       "    }\n",
       "\n",
       "    .dataframe tbody tr th {\n",
       "        vertical-align: top;\n",
       "    }\n",
       "\n",
       "    .dataframe thead th {\n",
       "        text-align: right;\n",
       "    }\n",
       "</style>\n",
       "<table border=\"1\" class=\"dataframe\">\n",
       "  <thead>\n",
       "    <tr style=\"text-align: right;\">\n",
       "      <th></th>\n",
       "      <th>0</th>\n",
       "      <th>1</th>\n",
       "      <th>2</th>\n",
       "      <th>3</th>\n",
       "      <th>4</th>\n",
       "      <th>5</th>\n",
       "      <th>6</th>\n",
       "      <th>7</th>\n",
       "      <th>8</th>\n",
       "      <th>9</th>\n",
       "    </tr>\n",
       "  </thead>\n",
       "  <tbody>\n",
       "    <tr>\n",
       "      <th>count</th>\n",
       "      <td>1000000.000000</td>\n",
       "      <td>1000000.000000</td>\n",
       "      <td>1000000.000000</td>\n",
       "      <td>1000000.000000</td>\n",
       "      <td>1000000.000000</td>\n",
       "      <td>1000000.000000</td>\n",
       "      <td>1000000.000000</td>\n",
       "      <td>1000000.000000</td>\n",
       "      <td>1000000.000000</td>\n",
       "      <td>1000000.000000</td>\n",
       "    </tr>\n",
       "    <tr>\n",
       "      <th>mean</th>\n",
       "      <td>4.997073</td>\n",
       "      <td>5.001028</td>\n",
       "      <td>5.007320</td>\n",
       "      <td>5.000564</td>\n",
       "      <td>5.002918</td>\n",
       "      <td>4.997860</td>\n",
       "      <td>4.994678</td>\n",
       "      <td>5.000934</td>\n",
       "      <td>4.999732</td>\n",
       "      <td>5.001248</td>\n",
       "    </tr>\n",
       "    <tr>\n",
       "      <th>std</th>\n",
       "      <td>2.888044</td>\n",
       "      <td>2.887930</td>\n",
       "      <td>2.885399</td>\n",
       "      <td>2.887179</td>\n",
       "      <td>2.885571</td>\n",
       "      <td>2.887763</td>\n",
       "      <td>2.886692</td>\n",
       "      <td>2.886212</td>\n",
       "      <td>2.884496</td>\n",
       "      <td>2.885806</td>\n",
       "    </tr>\n",
       "    <tr>\n",
       "      <th>min</th>\n",
       "      <td>0.000003</td>\n",
       "      <td>0.000007</td>\n",
       "      <td>0.000004</td>\n",
       "      <td>0.000047</td>\n",
       "      <td>0.000000</td>\n",
       "      <td>0.000012</td>\n",
       "      <td>0.000000</td>\n",
       "      <td>0.000010</td>\n",
       "      <td>0.000027</td>\n",
       "      <td>0.000011</td>\n",
       "    </tr>\n",
       "    <tr>\n",
       "      <th>25%</th>\n",
       "      <td>2.497114</td>\n",
       "      <td>2.502690</td>\n",
       "      <td>2.508921</td>\n",
       "      <td>2.499394</td>\n",
       "      <td>2.506870</td>\n",
       "      <td>2.496054</td>\n",
       "      <td>2.492990</td>\n",
       "      <td>2.502174</td>\n",
       "      <td>2.504178</td>\n",
       "      <td>2.501694</td>\n",
       "    </tr>\n",
       "    <tr>\n",
       "      <th>50%</th>\n",
       "      <td>4.995847</td>\n",
       "      <td>4.999588</td>\n",
       "      <td>5.011560</td>\n",
       "      <td>5.003775</td>\n",
       "      <td>5.002579</td>\n",
       "      <td>4.996064</td>\n",
       "      <td>4.987975</td>\n",
       "      <td>5.006327</td>\n",
       "      <td>4.996866</td>\n",
       "      <td>5.003301</td>\n",
       "    </tr>\n",
       "    <tr>\n",
       "      <th>75%</th>\n",
       "      <td>7.499681</td>\n",
       "      <td>7.502305</td>\n",
       "      <td>7.507253</td>\n",
       "      <td>7.504411</td>\n",
       "      <td>7.502104</td>\n",
       "      <td>7.502116</td>\n",
       "      <td>7.496580</td>\n",
       "      <td>7.498779</td>\n",
       "      <td>7.493940</td>\n",
       "      <td>7.497951</td>\n",
       "    </tr>\n",
       "    <tr>\n",
       "      <th>max</th>\n",
       "      <td>9.999994</td>\n",
       "      <td>9.999978</td>\n",
       "      <td>9.999990</td>\n",
       "      <td>9.999982</td>\n",
       "      <td>9.999996</td>\n",
       "      <td>9.999989</td>\n",
       "      <td>9.999997</td>\n",
       "      <td>9.999970</td>\n",
       "      <td>9.999990</td>\n",
       "      <td>9.999994</td>\n",
       "    </tr>\n",
       "  </tbody>\n",
       "</table>\n",
       "</div>"
      ],
      "text/plain": [
       "                    0               1               2               3  \\\n",
       "count  1000000.000000  1000000.000000  1000000.000000  1000000.000000   \n",
       "mean         4.997073        5.001028        5.007320        5.000564   \n",
       "std          2.888044        2.887930        2.885399        2.887179   \n",
       "min          0.000003        0.000007        0.000004        0.000047   \n",
       "25%          2.497114        2.502690        2.508921        2.499394   \n",
       "50%          4.995847        4.999588        5.011560        5.003775   \n",
       "75%          7.499681        7.502305        7.507253        7.504411   \n",
       "max          9.999994        9.999978        9.999990        9.999982   \n",
       "\n",
       "                    4               5               6               7  \\\n",
       "count  1000000.000000  1000000.000000  1000000.000000  1000000.000000   \n",
       "mean         5.002918        4.997860        4.994678        5.000934   \n",
       "std          2.885571        2.887763        2.886692        2.886212   \n",
       "min          0.000000        0.000012        0.000000        0.000010   \n",
       "25%          2.506870        2.496054        2.492990        2.502174   \n",
       "50%          5.002579        4.996064        4.987975        5.006327   \n",
       "75%          7.502104        7.502116        7.496580        7.498779   \n",
       "max          9.999996        9.999989        9.999997        9.999970   \n",
       "\n",
       "                    8               9  \n",
       "count  1000000.000000  1000000.000000  \n",
       "mean         4.999732        5.001248  \n",
       "std          2.884496        2.885806  \n",
       "min          0.000027        0.000011  \n",
       "25%          2.504178        2.501694  \n",
       "50%          4.996866        5.003301  \n",
       "75%          7.493940        7.497951  \n",
       "max          9.999990        9.999994  "
      ]
     },
     "execution_count": 22,
     "metadata": {},
     "output_type": "execute_result"
    }
   ],
   "source": [
    "points.describe()"
   ]
  },
  {
   "cell_type": "code",
   "execution_count": null,
   "metadata": {},
   "outputs": [],
   "source": []
  }
 ],
 "metadata": {
  "kernelspec": {
   "display_name": "Python 3",
   "language": "python",
   "name": "python3"
  },
  "language_info": {
   "codemirror_mode": {
    "name": "ipython",
    "version": 3
   },
   "file_extension": ".py",
   "mimetype": "text/x-python",
   "name": "python",
   "nbconvert_exporter": "python",
   "pygments_lexer": "ipython3",
   "version": "3.6.5"
  }
 },
 "nbformat": 4,
 "nbformat_minor": 1
}
