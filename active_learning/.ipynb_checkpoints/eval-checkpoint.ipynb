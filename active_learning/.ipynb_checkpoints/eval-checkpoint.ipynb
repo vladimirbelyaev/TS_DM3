{
 "cells": [
  {
   "cell_type": "code",
   "execution_count": 1,
   "metadata": {},
   "outputs": [],
   "source": [
    "from query_by_commitee import QBC\n",
    "from sklearn.metrics import mean_squared_error"
   ]
  },
  {
   "cell_type": "code",
   "execution_count": 2,
   "metadata": {},
   "outputs": [],
   "source": [
    "import pandas as pd\n",
    "import numpy as np\n",
    "def get_labels(x):\n",
    "    assert x.shape[1] == 10\n",
    "    return x[:, 1]*x[:, 6] + x[:, 8]/x[:, 9] * np.sqrt(x[:, 6]/x[:, 7]) \\\n",
    "           + np.pi * np.sqrt(x[:, 2]) + 1/np.sin(x[:, 3]) + np.log(x[:, 2] + x[:, 4])\n",
    "\n",
    "X_test = pd.read_csv('data/private.data', sep=' ', names=list(range(10))).values\n",
    "X_train = pd.read_csv('data/public.data', sep=' ', names=list(range(10))).values\n",
    "\n",
    "y_train = get_labels(X_train)\n",
    "y_test = get_labels(X_test)"
   ]
  },
  {
   "cell_type": "code",
   "execution_count": 3,
   "metadata": {
    "scrolled": true
   },
   "outputs": [
    {
     "name": "stdout",
     "output_type": "stream",
     "text": [
      "Nans: 0\n"
     ]
    },
    {
     "name": "stderr",
     "output_type": "stream",
     "text": [
      "  0%|          | 0/31 [00:00<?, ?it/s]/home/vladimir/PycharmProjects/active_learning/query_by_commitee.py:18: RuntimeWarning: invalid value encountered in sqrt\n",
      "  + np.pi * np.sqrt(x[:, 2]) + 1/np.sin(x[:, 3]) + np.log(x[:, 2] + x[:, 4])\n",
      "100%|██████████| 31/31 [00:00<00:00, 3499.30it/s]"
     ]
    },
    {
     "name": "stdout",
     "output_type": "stream",
     "text": [
      "TEST PREGRADFEAT: 0 0\n",
      "Nan labels occured while gradient sampling: 1\n",
      "TEST GRADFEAT: 4 0\n",
      "Nan X 0 Nan Y 0 Nan YX 4\n",
      "Nans: 0\n",
      "4\n",
      "[        nan         nan         nan         nan 51.18134472 39.97132992\n",
      " 33.52881076 31.91353593 31.03765292 25.81915468]\n",
      "Points: 3168\n",
      "Part error: 8044.93698998879\t Full error: 12634.269704356184\n"
     ]
    },
    {
     "name": "stderr",
     "output_type": "stream",
     "text": [
      "\n",
      "100%|██████████| 31/31 [00:00<00:00, 3844.12it/s]"
     ]
    },
    {
     "name": "stdout",
     "output_type": "stream",
     "text": [
      "TEST PREGRADFEAT: 4 0\n",
      "Nan labels occured while gradient sampling: 0\n",
      "TEST GRADFEAT: 0 0\n",
      "Nan X 0 Nan Y 0 Nan YX 4\n",
      "Nans: 0\n",
      "4\n",
      "[         nan          nan          nan          nan 130.86107595\n",
      "  51.18134472  49.12509296  39.97132992  33.52881076  31.91353593]\n",
      "Points: 3845\n",
      "Part error: 7302.4690090927015\t Full error: 1010.1856857105959\n"
     ]
    },
    {
     "name": "stderr",
     "output_type": "stream",
     "text": [
      "\n",
      "100%|██████████| 30/30 [00:00<00:00, 3067.13it/s]"
     ]
    },
    {
     "name": "stdout",
     "output_type": "stream",
     "text": [
      "TEST PREGRADFEAT: 4 0\n",
      "Nan labels occured while gradient sampling: 1\n",
      "TEST GRADFEAT: 2 0\n",
      "Nan X 0 Nan Y 0 Nan YX 6\n",
      "Nans: 0\n",
      "6\n",
      "[         nan          nan          nan          nan          nan\n",
      "          nan 130.86107595  51.18134472  49.12509296  39.97132992]\n",
      "Points: 4497\n",
      "Part error: 9071.15255743108\t Full error: 1010.1836351612295\n"
     ]
    },
    {
     "name": "stderr",
     "output_type": "stream",
     "text": [
      "\n",
      "100%|██████████| 30/30 [00:00<00:00, 3623.38it/s]"
     ]
    },
    {
     "name": "stdout",
     "output_type": "stream",
     "text": [
      "TEST PREGRADFEAT: 6 0\n",
      "Nan labels occured while gradient sampling: 2\n",
      "TEST GRADFEAT: 0 0\n",
      "Nan X 0 Nan Y 0 Nan YX 6\n",
      "Nans: 0\n",
      "6\n",
      "[         nan          nan          nan          nan          nan\n",
      "          nan 130.86107595  53.06273489  51.18134472  49.36061228]\n",
      "Points: 5185\n",
      "Part error: 8452.420059701997\t Full error: 1010.0572669381831\n"
     ]
    },
    {
     "name": "stderr",
     "output_type": "stream",
     "text": [
      "\n",
      "100%|██████████| 31/31 [00:00<00:00, 3236.91it/s]"
     ]
    },
    {
     "name": "stdout",
     "output_type": "stream",
     "text": [
      "TEST PREGRADFEAT: 6 0\n",
      "Nan labels occured while gradient sampling: 0\n",
      "TEST GRADFEAT: 0 0\n",
      "Nan X 0 Nan Y 0 Nan YX 6\n",
      "Nans: 0\n",
      "6\n",
      "[         nan          nan          nan          nan          nan\n",
      "          nan 130.86107595  53.06273489  51.18134472  49.36061228]\n",
      "Points: 5865\n",
      "Part error: 8106.646481210389\t Full error: 1010.161779954531\n"
     ]
    },
    {
     "name": "stderr",
     "output_type": "stream",
     "text": [
      "\n",
      "100%|██████████| 27/27 [00:00<00:00, 3744.79it/s]"
     ]
    },
    {
     "name": "stdout",
     "output_type": "stream",
     "text": [
      "TEST PREGRADFEAT: 6 0\n",
      "Nan labels occured while gradient sampling: 2\n",
      "TEST GRADFEAT: 0 0\n",
      "Nan X 0 Nan Y 0 Nan YX 6\n",
      "Nans: 0\n",
      "6\n",
      "[         nan          nan          nan          nan          nan\n",
      "          nan 314.18743668 299.25672648 130.86107595  61.12541938]\n",
      "Points: 6504\n",
      "Part error: 7698.127141790214\t Full error: 1010.162549522015\n"
     ]
    },
    {
     "name": "stderr",
     "output_type": "stream",
     "text": [
      "\n",
      "100%|██████████| 16/16 [00:00<00:00, 4145.59it/s]"
     ]
    },
    {
     "name": "stdout",
     "output_type": "stream",
     "text": [
      "TEST PREGRADFEAT: 6 0\n",
      "Nan labels occured while gradient sampling: 2\n",
      "TEST GRADFEAT: 0 0\n",
      "Nan X 0 Nan Y 0 Nan YX 6\n",
      "Nans: 0\n",
      "6\n",
      "[         nan          nan          nan          nan          nan\n",
      "          nan 314.18743668 299.25672648 130.86107595  61.12541938]\n",
      "Points: 6982\n",
      "Part error: 7429.944151254401\t Full error: 1010.1770145757392\n"
     ]
    },
    {
     "name": "stderr",
     "output_type": "stream",
     "text": [
      "\n",
      "100%|██████████| 24/24 [00:00<00:00, 3477.50it/s]"
     ]
    },
    {
     "name": "stdout",
     "output_type": "stream",
     "text": [
      "TEST PREGRADFEAT: 6 0\n",
      "Nan labels occured while gradient sampling: 0\n",
      "TEST GRADFEAT: 0 0\n",
      "Nan X 0 Nan Y 0 Nan YX 6\n",
      "Nans: 0\n",
      "6\n",
      "[         nan          nan          nan          nan          nan\n",
      "          nan 314.18743668 299.25672648 130.86107595  61.12541938]\n",
      "Points: 7606\n",
      "Part error: 7118.646456431263\t Full error: 1010.1683597101068\n"
     ]
    },
    {
     "name": "stderr",
     "output_type": "stream",
     "text": [
      "\n",
      "100%|██████████| 6/6 [00:00<00:00, 3856.83it/s]"
     ]
    },
    {
     "name": "stdout",
     "output_type": "stream",
     "text": [
      "TEST PREGRADFEAT: 6 0\n",
      "Nan labels occured while gradient sampling: 0\n",
      "TEST GRADFEAT: 0 0\n",
      "Nan X 0 Nan Y 0 Nan YX 6\n",
      "Nans: 0\n",
      "6\n",
      "[         nan          nan          nan          nan          nan\n",
      "          nan 314.18743668 299.25672648 130.86107595  61.12541938]\n",
      "Points: 7976\n",
      "Part error: 6951.585746441906\t Full error: 1010.1644893667041\n"
     ]
    },
    {
     "name": "stderr",
     "output_type": "stream",
     "text": [
      "\n"
     ]
    },
    {
     "ename": "KeyboardInterrupt",
     "evalue": "",
     "output_type": "error",
     "traceback": [
      "\u001b[0;31m---------------------------------------------------------------------------\u001b[0m",
      "\u001b[0;31mKeyboardInterrupt\u001b[0m                         Traceback (most recent call last)",
      "\u001b[0;32m<ipython-input-3-51000e93ca97>\u001b[0m in \u001b[0;36m<module>\u001b[0;34m()\u001b[0m\n\u001b[1;32m      1\u001b[0m \u001b[0mqbcRegr3\u001b[0m \u001b[0;34m=\u001b[0m \u001b[0mQBC\u001b[0m\u001b[0;34m(\u001b[0m\u001b[0mn_estimators\u001b[0m\u001b[0;34m=\u001b[0m\u001b[0;36m1\u001b[0m\u001b[0;34m,\u001b[0m \u001b[0msampling\u001b[0m\u001b[0;34m=\u001b[0m\u001b[0;34m\"QBC2reg\"\u001b[0m\u001b[0;34m,\u001b[0m \u001b[0mbatch_size\u001b[0m\u001b[0;34m=\u001b[0m\u001b[0;36m300\u001b[0m\u001b[0;34m,\u001b[0m \u001b[0minit_size\u001b[0m \u001b[0;34m=\u001b[0m \u001b[0;36m1500\u001b[0m\u001b[0;34m,\u001b[0m \u001b[0mto_label\u001b[0m \u001b[0;34m=\u001b[0m \u001b[0;36m17000\u001b[0m\u001b[0;34m,\u001b[0m \u001b[0mrandom_state\u001b[0m\u001b[0;34m=\u001b[0m\u001b[0;36m41\u001b[0m\u001b[0;34m,\u001b[0m \u001b[0muse_grad\u001b[0m\u001b[0;34m=\u001b[0m\u001b[0;32mTrue\u001b[0m\u001b[0;34m,\u001b[0m \u001b[0mmax_depth\u001b[0m \u001b[0;34m=\u001b[0m \u001b[0;36m7\u001b[0m\u001b[0;34m)\u001b[0m\u001b[0;34m\u001b[0m\u001b[0m\n\u001b[0;32m----> 2\u001b[0;31m \u001b[0mqbcRegr3\u001b[0m\u001b[0;34m.\u001b[0m\u001b[0mfit\u001b[0m\u001b[0;34m(\u001b[0m\u001b[0mX_train\u001b[0m\u001b[0;34m)\u001b[0m\u001b[0;34m\u001b[0m\u001b[0m\n\u001b[0m",
      "\u001b[0;32m~/PycharmProjects/active_learning/query_by_commitee.py\u001b[0m in \u001b[0;36mfit\u001b[0;34m(self, X)\u001b[0m\n\u001b[1;32m    300\u001b[0m                 \u001b[0mnp\u001b[0m\u001b[0;34m.\u001b[0m\u001b[0msqrt\u001b[0m\u001b[0;34m(\u001b[0m\u001b[0mmean_squared_error\u001b[0m\u001b[0;34m(\u001b[0m\u001b[0mself\u001b[0m\u001b[0;34m.\u001b[0m\u001b[0mpredict\u001b[0m\u001b[0;34m(\u001b[0m\u001b[0mcurr_labeled_points\u001b[0m\u001b[0;34m)\u001b[0m\u001b[0;34m,\u001b[0m \u001b[0mcurr_labels\u001b[0m\u001b[0;34m)\u001b[0m\u001b[0;34m)\u001b[0m\u001b[0;34m,\u001b[0m\u001b[0;34m\u001b[0m\u001b[0m\n\u001b[1;32m    301\u001b[0m                 full_rmse))\n\u001b[0;32m--> 302\u001b[0;31m             \u001b[0mworst_predicts\u001b[0m \u001b[0;34m=\u001b[0m \u001b[0mfull_error\u001b[0m\u001b[0;34m.\u001b[0m\u001b[0margsort\u001b[0m\u001b[0;34m(\u001b[0m\u001b[0;34m)\u001b[0m\u001b[0;34m[\u001b[0m\u001b[0;34m:\u001b[0m\u001b[0;34m:\u001b[0m\u001b[0;34m-\u001b[0m\u001b[0;36m1\u001b[0m\u001b[0;34m]\u001b[0m\u001b[0;34m[\u001b[0m\u001b[0;34m:\u001b[0m\u001b[0;36m8\u001b[0m\u001b[0;34m]\u001b[0m\u001b[0;34m\u001b[0m\u001b[0m\n\u001b[0m\u001b[1;32m    303\u001b[0m         \u001b[0mprint\u001b[0m\u001b[0;34m(\u001b[0m\u001b[0;34m\"Total points: \"\u001b[0m\u001b[0;34m,\u001b[0m \u001b[0mcurr_labeled_points\u001b[0m\u001b[0;34m.\u001b[0m\u001b[0mshape\u001b[0m\u001b[0;34m[\u001b[0m\u001b[0;36m0\u001b[0m\u001b[0;34m]\u001b[0m\u001b[0;34m)\u001b[0m\u001b[0;34m\u001b[0m\u001b[0m\n\u001b[1;32m    304\u001b[0m \u001b[0;34m\u001b[0m\u001b[0m\n",
      "\u001b[0;31mKeyboardInterrupt\u001b[0m: "
     ]
    }
   ],
   "source": [
    "qbcRegr3 = QBC(n_estimators=1, sampling=\"QBC2reg\", batch_size=300, init_size = 1500, to_label = 17000, random_state=41, use_grad=False, max_depth = 7)\n",
    "qbcRegr3.fit(X_train)"
   ]
  },
  {
   "cell_type": "code",
   "execution_count": 4,
   "metadata": {},
   "outputs": [
    {
     "name": "stdout",
     "output_type": "stream",
     "text": [
      "(1000000,)\n"
     ]
    },
    {
     "data": {
      "text/plain": [
       "11671.892285663169"
      ]
     },
     "execution_count": 4,
     "metadata": {},
     "output_type": "execute_result"
    }
   ],
   "source": [
    "qbcRegr3.eval(X_test)"
   ]
  },
  {
   "cell_type": "code",
   "execution_count": 10,
   "metadata": {},
   "outputs": [
    {
     "data": {
      "text/plain": [
       "11804.62571278408"
      ]
     },
     "execution_count": 10,
     "metadata": {},
     "output_type": "execute_result"
    }
   ],
   "source": [
    "np.sqrt(mean_squared_error(qbcRegr3.estimators[0].predict(X_test), y_test))"
   ]
  },
  {
   "cell_type": "code",
   "execution_count": 49,
   "metadata": {},
   "outputs": [
    {
     "name": "stdout",
     "output_type": "stream",
     "text": [
      "1897.3002233704833\n"
     ]
    }
   ],
   "source": [
    "from sklearn.tree import DecisionTreeRegressor\n",
    "from sklearn.linear_model import LinearRegression\n",
    "from sklearn.metrics import mean_squared_error\n",
    "import numpy as np\n",
    "test_tree = LinearRegression()\n",
    "train_data = pd.read_csv('data/public.data', sep=' ', names=list(range(10))).values\n",
    "test_tree.fit(train_data[:,:], get_labels(train_data[:,:]))\n",
    "print(np.sqrt(mean_squared_error(test_tree.predict(private_set), get_labels(private_set))))"
   ]
  },
  {
   "cell_type": "code",
   "execution_count": 51,
   "metadata": {},
   "outputs": [
    {
     "name": "stdout",
     "output_type": "stream",
     "text": [
      "1897.5111194230867\n"
     ]
    }
   ],
   "source": [
    "a = np.mean(y_train[:10])\n",
    "print(np.sqrt(((y_test - a)**2).sum()/y_test.shape[0]))"
   ]
  },
  {
   "cell_type": "code",
   "execution_count": 54,
   "metadata": {},
   "outputs": [
    {
     "name": "stdout",
     "output_type": "stream",
     "text": [
      "1897.6147377952616\n"
     ]
    }
   ],
   "source": [
    "a = y_train[0]\n",
    "print(np.sqrt(((y_test - a)**2).sum()/y_test.shape[0]))"
   ]
  },
  {
   "cell_type": "code",
   "execution_count": null,
   "metadata": {},
   "outputs": [],
   "source": [
    "from matplotlib.pyplot "
   ]
  },
  {
   "cell_type": "code",
   "execution_count": 47,
   "metadata": {},
   "outputs": [
    {
     "name": "stdout",
     "output_type": "stream",
     "text": [
      "[0]\tvalidation_0-rmse:985.223\tvalidation_1-rmse:1890.26\n",
      "[1]\tvalidation_0-rmse:960.578\tvalidation_1-rmse:1882.3\n",
      "[2]\tvalidation_0-rmse:939.569\tvalidation_1-rmse:1875.45\n",
      "[3]\tvalidation_0-rmse:920.866\tvalidation_1-rmse:1870.38\n",
      "[4]\tvalidation_0-rmse:904.905\tvalidation_1-rmse:1865.07\n",
      "[5]\tvalidation_0-rmse:890.923\tvalidation_1-rmse:1861.39\n",
      "[6]\tvalidation_0-rmse:878.894\tvalidation_1-rmse:1857.25\n",
      "[7]\tvalidation_0-rmse:868.449\tvalidation_1-rmse:1854.58\n",
      "[8]\tvalidation_0-rmse:858.996\tvalidation_1-rmse:1850.53\n",
      "[9]\tvalidation_0-rmse:850.914\tvalidation_1-rmse:1846.87\n",
      "[10]\tvalidation_0-rmse:843.515\tvalidation_1-rmse:1844.97\n",
      "[11]\tvalidation_0-rmse:837.156\tvalidation_1-rmse:1841.85\n",
      "[12]\tvalidation_0-rmse:831.507\tvalidation_1-rmse:1840.35\n",
      "[13]\tvalidation_0-rmse:826.56\tvalidation_1-rmse:1838.24\n",
      "[14]\tvalidation_0-rmse:822.18\tvalidation_1-rmse:1835.77\n",
      "[15]\tvalidation_0-rmse:818.094\tvalidation_1-rmse:1834.08\n",
      "[16]\tvalidation_0-rmse:814.538\tvalidation_1-rmse:1831.91\n",
      "[17]\tvalidation_0-rmse:811.35\tvalidation_1-rmse:1830.58\n",
      "[18]\tvalidation_0-rmse:808.486\tvalidation_1-rmse:1829.84\n",
      "[19]\tvalidation_0-rmse:805.831\tvalidation_1-rmse:1828.01\n",
      "[20]\tvalidation_0-rmse:803.583\tvalidation_1-rmse:1827.1\n",
      "[21]\tvalidation_0-rmse:801.413\tvalidation_1-rmse:1825.48\n",
      "[22]\tvalidation_0-rmse:799.572\tvalidation_1-rmse:1824.01\n",
      "[23]\tvalidation_0-rmse:797.861\tvalidation_1-rmse:1823.34\n",
      "[24]\tvalidation_0-rmse:796.338\tvalidation_1-rmse:1822.92\n",
      "[25]\tvalidation_0-rmse:794.957\tvalidation_1-rmse:1821.67\n",
      "[26]\tvalidation_0-rmse:793.643\tvalidation_1-rmse:1821.02\n",
      "[27]\tvalidation_0-rmse:792.507\tvalidation_1-rmse:1819.9\n",
      "[28]\tvalidation_0-rmse:791.412\tvalidation_1-rmse:1819.38\n",
      "[29]\tvalidation_0-rmse:790.455\tvalidation_1-rmse:1818.64\n",
      "[30]\tvalidation_0-rmse:789.574\tvalidation_1-rmse:1818.23\n",
      "[31]\tvalidation_0-rmse:788.789\tvalidation_1-rmse:1817.85\n",
      "[32]\tvalidation_0-rmse:788.021\tvalidation_1-rmse:1816.95\n",
      "[33]\tvalidation_0-rmse:787.369\tvalidation_1-rmse:1816.13\n",
      "[34]\tvalidation_0-rmse:786.762\tvalidation_1-rmse:1815.82\n",
      "[35]\tvalidation_0-rmse:786.206\tvalidation_1-rmse:1815.46\n",
      "[36]\tvalidation_0-rmse:785.715\tvalidation_1-rmse:1815.21\n",
      "[37]\tvalidation_0-rmse:785.254\tvalidation_1-rmse:1814.53\n",
      "[38]\tvalidation_0-rmse:784.81\tvalidation_1-rmse:1814.31\n",
      "[39]\tvalidation_0-rmse:784.426\tvalidation_1-rmse:1813.69\n",
      "[40]\tvalidation_0-rmse:784.04\tvalidation_1-rmse:1814.39\n",
      "[41]\tvalidation_0-rmse:783.665\tvalidation_1-rmse:1813.77\n",
      "[42]\tvalidation_0-rmse:783.287\tvalidation_1-rmse:1814.46\n",
      "[43]\tvalidation_0-rmse:782.918\tvalidation_1-rmse:1814.28\n",
      "[44]\tvalidation_0-rmse:782.559\tvalidation_1-rmse:1813.68\n",
      "[45]\tvalidation_0-rmse:782.181\tvalidation_1-rmse:1814.36\n",
      "[46]\tvalidation_0-rmse:781.829\tvalidation_1-rmse:1813.77\n",
      "[47]\tvalidation_0-rmse:781.459\tvalidation_1-rmse:1814.45\n",
      "[48]\tvalidation_0-rmse:781.115\tvalidation_1-rmse:1814.33\n",
      "[49]\tvalidation_0-rmse:780.76\tvalidation_1-rmse:1815.27\n",
      "[50]\tvalidation_0-rmse:780.423\tvalidation_1-rmse:1814.68\n",
      "[51]\tvalidation_0-rmse:780.06\tvalidation_1-rmse:1815.36\n",
      "[52]\tvalidation_0-rmse:779.73\tvalidation_1-rmse:1814.78\n",
      "[53]\tvalidation_0-rmse:779.375\tvalidation_1-rmse:1815.45\n",
      "[54]\tvalidation_0-rmse:779.051\tvalidation_1-rmse:1814.88\n",
      "[55]\tvalidation_0-rmse:778.703\tvalidation_1-rmse:1815.54\n",
      "[56]\tvalidation_0-rmse:778.386\tvalidation_1-rmse:1814.97\n",
      "[57]\tvalidation_0-rmse:778.045\tvalidation_1-rmse:1815.63\n",
      "[58]\tvalidation_0-rmse:777.734\tvalidation_1-rmse:1815.07\n",
      "[59]\tvalidation_0-rmse:777.401\tvalidation_1-rmse:1815.72\n",
      "[60]\tvalidation_0-rmse:777.099\tvalidation_1-rmse:1815.53\n",
      "[61]\tvalidation_0-rmse:776.79\tvalidation_1-rmse:1816.41\n",
      "[62]\tvalidation_0-rmse:776.474\tvalidation_1-rmse:1815.84\n",
      "[63]\tvalidation_0-rmse:776.161\tvalidation_1-rmse:1816.48\n",
      "[64]\tvalidation_0-rmse:775.854\tvalidation_1-rmse:1815.92\n",
      "[65]\tvalidation_0-rmse:775.546\tvalidation_1-rmse:1816.54\n",
      "[66]\tvalidation_0-rmse:775.247\tvalidation_1-rmse:1815.99\n",
      "[67]\tvalidation_0-rmse:774.943\tvalidation_1-rmse:1816.61\n",
      "[68]\tvalidation_0-rmse:774.651\tvalidation_1-rmse:1816.06\n",
      "[69]\tvalidation_0-rmse:774.347\tvalidation_1-rmse:1816.54\n",
      "[70]\tvalidation_0-rmse:774.061\tvalidation_1-rmse:1816\n",
      "[71]\tvalidation_0-rmse:773.758\tvalidation_1-rmse:1816.62\n",
      "[72]\tvalidation_0-rmse:773.478\tvalidation_1-rmse:1816.08\n",
      "[73]\tvalidation_0-rmse:773.181\tvalidation_1-rmse:1816.55\n",
      "[74]\tvalidation_0-rmse:772.893\tvalidation_1-rmse:1816.18\n",
      "[75]\tvalidation_0-rmse:772.599\tvalidation_1-rmse:1816.64\n",
      "[76]\tvalidation_0-rmse:772.314\tvalidation_1-rmse:1816.27\n",
      "[77]\tvalidation_0-rmse:772.022\tvalidation_1-rmse:1816.88\n",
      "[78]\tvalidation_0-rmse:771.742\tvalidation_1-rmse:1816.35\n",
      "[79]\tvalidation_0-rmse:771.447\tvalidation_1-rmse:1816.81\n",
      "[80]\tvalidation_0-rmse:771.17\tvalidation_1-rmse:1816.45\n",
      "[81]\tvalidation_0-rmse:770.879\tvalidation_1-rmse:1816.92\n",
      "[82]\tvalidation_0-rmse:770.601\tvalidation_1-rmse:1816.38\n",
      "[83]\tvalidation_0-rmse:770.311\tvalidation_1-rmse:1816.99\n",
      "[84]\tvalidation_0-rmse:770.04\tvalidation_1-rmse:1816.46\n",
      "[85]\tvalidation_0-rmse:769.754\tvalidation_1-rmse:1816.92\n",
      "[86]\tvalidation_0-rmse:769.475\tvalidation_1-rmse:1816.56\n",
      "[87]\tvalidation_0-rmse:769.193\tvalidation_1-rmse:1817.02\n",
      "[88]\tvalidation_0-rmse:768.917\tvalidation_1-rmse:1816.67\n",
      "[89]\tvalidation_0-rmse:768.633\tvalidation_1-rmse:1817.51\n",
      "[90]\tvalidation_0-rmse:768.369\tvalidation_1-rmse:1817.95\n",
      "[91]\tvalidation_0-rmse:768.08\tvalidation_1-rmse:1817.41\n",
      "[92]\tvalidation_0-rmse:767.813\tvalidation_1-rmse:1818\n",
      "[93]\tvalidation_0-rmse:767.533\tvalidation_1-rmse:1817.46\n",
      "[94]\tvalidation_0-rmse:767.27\tvalidation_1-rmse:1817.9\n",
      "[95]\tvalidation_0-rmse:766.983\tvalidation_1-rmse:1817.54\n",
      "[96]\tvalidation_0-rmse:766.72\tvalidation_1-rmse:1818.12\n",
      "[97]\tvalidation_0-rmse:766.447\tvalidation_1-rmse:1817.59\n",
      "[98]\tvalidation_0-rmse:766.178\tvalidation_1-rmse:1818.04\n",
      "[99]\tvalidation_0-rmse:765.903\tvalidation_1-rmse:1817.69\n",
      "1817.6916789463\n"
     ]
    }
   ],
   "source": [
    "from xgboost import XGBRegressor, DMatrix, XGBModel\n",
    "X_train = train_data\n",
    "X_test = private_set\n",
    "y_train = get_labels(train_data)\n",
    "y_test = get_labels(private_set)\n",
    "dTrain = DMatrix(X_train, y_train)\n",
    "dTest = DMatrix(X_test, y_test)\n",
    "test_xgb = XGBRegressor(max_depth = 1)\n",
    "test_xgb.fit(X_train, y_train, verbose=True, eval_set=[(X_train,y_train),(X_test, y_test)])\n",
    "print(np.sqrt(mean_squared_error(test_xgb.predict(private_set), get_labels(private_set))))"
   ]
  },
  {
   "cell_type": "code",
   "execution_count": 8,
   "metadata": {},
   "outputs": [
    {
     "ename": "ValueError",
     "evalue": "Found input variables with inconsistent numbers of samples: [1, 2]",
     "output_type": "error",
     "traceback": [
      "\u001b[0;31m---------------------------------------------------------------------------\u001b[0m",
      "\u001b[0;31mValueError\u001b[0m                                Traceback (most recent call last)",
      "\u001b[0;32m<ipython-input-8-2d37d75aa696>\u001b[0m in \u001b[0;36m<module>\u001b[0;34m()\u001b[0m\n\u001b[1;32m      1\u001b[0m \u001b[0;32mimport\u001b[0m \u001b[0mnumpy\u001b[0m \u001b[0;32mas\u001b[0m \u001b[0mnp\u001b[0m\u001b[0;34m\u001b[0m\u001b[0m\n\u001b[1;32m      2\u001b[0m \u001b[0;32mfrom\u001b[0m \u001b[0msklearn\u001b[0m\u001b[0;34m.\u001b[0m\u001b[0mmetrics\u001b[0m \u001b[0;32mimport\u001b[0m \u001b[0mmean_squared_error\u001b[0m\u001b[0;34m\u001b[0m\u001b[0m\n\u001b[0;32m----> 3\u001b[0;31m \u001b[0mmean_squared_error\u001b[0m\u001b[0;34m(\u001b[0m\u001b[0mnp\u001b[0m\u001b[0;34m.\u001b[0m\u001b[0marray\u001b[0m\u001b[0;34m(\u001b[0m\u001b[0;34m[\u001b[0m\u001b[0;36m1\u001b[0m\u001b[0;34m]\u001b[0m\u001b[0;34m)\u001b[0m\u001b[0;34m,\u001b[0m\u001b[0mnp\u001b[0m\u001b[0;34m.\u001b[0m\u001b[0marray\u001b[0m\u001b[0;34m(\u001b[0m\u001b[0;34m[\u001b[0m\u001b[0;36m1\u001b[0m\u001b[0;34m,\u001b[0m\u001b[0;36m2\u001b[0m\u001b[0;34m]\u001b[0m\u001b[0;34m)\u001b[0m\u001b[0;34m)\u001b[0m\u001b[0;34m\u001b[0m\u001b[0m\n\u001b[0m",
      "\u001b[0;32m~/anaconda3/lib/python3.6/site-packages/sklearn/metrics/regression.py\u001b[0m in \u001b[0;36mmean_squared_error\u001b[0;34m(y_true, y_pred, sample_weight, multioutput)\u001b[0m\n\u001b[1;32m    236\u001b[0m     \"\"\"\n\u001b[1;32m    237\u001b[0m     y_type, y_true, y_pred, multioutput = _check_reg_targets(\n\u001b[0;32m--> 238\u001b[0;31m         y_true, y_pred, multioutput)\n\u001b[0m\u001b[1;32m    239\u001b[0m     output_errors = np.average((y_true - y_pred) ** 2, axis=0,\n\u001b[1;32m    240\u001b[0m                                weights=sample_weight)\n",
      "\u001b[0;32m~/anaconda3/lib/python3.6/site-packages/sklearn/metrics/regression.py\u001b[0m in \u001b[0;36m_check_reg_targets\u001b[0;34m(y_true, y_pred, multioutput)\u001b[0m\n\u001b[1;32m     73\u001b[0m \u001b[0;34m\u001b[0m\u001b[0m\n\u001b[1;32m     74\u001b[0m     \"\"\"\n\u001b[0;32m---> 75\u001b[0;31m     \u001b[0mcheck_consistent_length\u001b[0m\u001b[0;34m(\u001b[0m\u001b[0my_true\u001b[0m\u001b[0;34m,\u001b[0m \u001b[0my_pred\u001b[0m\u001b[0;34m)\u001b[0m\u001b[0;34m\u001b[0m\u001b[0m\n\u001b[0m\u001b[1;32m     76\u001b[0m     \u001b[0my_true\u001b[0m \u001b[0;34m=\u001b[0m \u001b[0mcheck_array\u001b[0m\u001b[0;34m(\u001b[0m\u001b[0my_true\u001b[0m\u001b[0;34m,\u001b[0m \u001b[0mensure_2d\u001b[0m\u001b[0;34m=\u001b[0m\u001b[0;32mFalse\u001b[0m\u001b[0;34m)\u001b[0m\u001b[0;34m\u001b[0m\u001b[0m\n\u001b[1;32m     77\u001b[0m     \u001b[0my_pred\u001b[0m \u001b[0;34m=\u001b[0m \u001b[0mcheck_array\u001b[0m\u001b[0;34m(\u001b[0m\u001b[0my_pred\u001b[0m\u001b[0;34m,\u001b[0m \u001b[0mensure_2d\u001b[0m\u001b[0;34m=\u001b[0m\u001b[0;32mFalse\u001b[0m\u001b[0;34m)\u001b[0m\u001b[0;34m\u001b[0m\u001b[0m\n",
      "\u001b[0;32m~/anaconda3/lib/python3.6/site-packages/sklearn/utils/validation.py\u001b[0m in \u001b[0;36mcheck_consistent_length\u001b[0;34m(*arrays)\u001b[0m\n\u001b[1;32m    202\u001b[0m     \u001b[0;32mif\u001b[0m \u001b[0mlen\u001b[0m\u001b[0;34m(\u001b[0m\u001b[0muniques\u001b[0m\u001b[0;34m)\u001b[0m \u001b[0;34m>\u001b[0m \u001b[0;36m1\u001b[0m\u001b[0;34m:\u001b[0m\u001b[0;34m\u001b[0m\u001b[0m\n\u001b[1;32m    203\u001b[0m         raise ValueError(\"Found input variables with inconsistent numbers of\"\n\u001b[0;32m--> 204\u001b[0;31m                          \" samples: %r\" % [int(l) for l in lengths])\n\u001b[0m\u001b[1;32m    205\u001b[0m \u001b[0;34m\u001b[0m\u001b[0m\n\u001b[1;32m    206\u001b[0m \u001b[0;34m\u001b[0m\u001b[0m\n",
      "\u001b[0;31mValueError\u001b[0m: Found input variables with inconsistent numbers of samples: [1, 2]"
     ]
    }
   ],
   "source": [
    "import numpy as np\n",
    "from sklearn.metrics import mean_squared_error\n",
    "mean_squared_error(np.array([1]),np.array([1,2]))"
   ]
  },
  {
   "cell_type": "code",
   "execution_count": null,
   "metadata": {},
   "outputs": [],
   "source": [
    "qbcRegr3.estimators[0].predict()"
   ]
  },
  {
   "cell_type": "code",
   "execution_count": null,
   "metadata": {},
   "outputs": [],
   "source": []
  }
 ],
 "metadata": {
  "kernelspec": {
   "display_name": "Python 3",
   "language": "python",
   "name": "python3"
  },
  "language_info": {
   "codemirror_mode": {
    "name": "ipython",
    "version": 3
   },
   "file_extension": ".py",
   "mimetype": "text/x-python",
   "name": "python",
   "nbconvert_exporter": "python",
   "pygments_lexer": "ipython3",
   "version": "3.6.5"
  }
 },
 "nbformat": 4,
 "nbformat_minor": 2
}
